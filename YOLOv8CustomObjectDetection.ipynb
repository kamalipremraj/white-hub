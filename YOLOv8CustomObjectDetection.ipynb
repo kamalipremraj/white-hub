{
  "nbformat": 4,
  "nbformat_minor": 0,
  "metadata": {
    "colab": {
      "provenance": [],
      "toc_visible": true,
      "include_colab_link": true
    },
    "kernelspec": {
      "name": "python3",
      "display_name": "Python 3"
    },
    "language_info": {
      "name": "python"
    },
    "accelerator": "GPU",
    "gpuClass": "standard"
  },
  "cells": [
    {
      "cell_type": "markdown",
      "metadata": {
        "id": "view-in-github",
        "colab_type": "text"
      },
      "source": [
        "<a href=\"https://colab.research.google.com/github/kamalipremraj/white-hub/blob/main/YOLOv8CustomObjectDetection.ipynb\" target=\"_parent\"><img src=\"https://colab.research.google.com/assets/colab-badge.svg\" alt=\"Open In Colab\"/></a>"
      ]
    },
    {
      "cell_type": "markdown",
      "source": [
        "## How to Train YOLOv8 Object Detection on a Custom Dataset"
      ],
      "metadata": {
        "id": "pSONm77js1RW"
      }
    },
    {
      "cell_type": "code",
      "execution_count": null,
      "metadata": {
        "colab": {
          "base_uri": "https://localhost:8080/"
        },
        "id": "csXK-q0Wsvj9",
        "outputId": "52329b87-e7b7-4d06-e421-cbabb5a9d2ef"
      },
      "outputs": [
        {
          "output_type": "stream",
          "name": "stdout",
          "text": [
            "Thu Mar  2 17:45:43 2023       \n",
            "+-----------------------------------------------------------------------------+\n",
            "| NVIDIA-SMI 525.85.12    Driver Version: 525.85.12    CUDA Version: 12.0     |\n",
            "|-------------------------------+----------------------+----------------------+\n",
            "| GPU  Name        Persistence-M| Bus-Id        Disp.A | Volatile Uncorr. ECC |\n",
            "| Fan  Temp  Perf  Pwr:Usage/Cap|         Memory-Usage | GPU-Util  Compute M. |\n",
            "|                               |                      |               MIG M. |\n",
            "|===============================+======================+======================|\n",
            "|   0  Tesla T4            Off  | 00000000:00:04.0 Off |                    0 |\n",
            "| N/A   46C    P0    24W /  70W |      0MiB / 15360MiB |      0%      Default |\n",
            "|                               |                      |                  N/A |\n",
            "+-------------------------------+----------------------+----------------------+\n",
            "                                                                               \n",
            "+-----------------------------------------------------------------------------+\n",
            "| Processes:                                                                  |\n",
            "|  GPU   GI   CI        PID   Type   Process name                  GPU Memory |\n",
            "|        ID   ID                                                   Usage      |\n",
            "|=============================================================================|\n",
            "|  No running processes found                                                 |\n",
            "+-----------------------------------------------------------------------------+\n"
          ]
        }
      ],
      "source": [
        "!nvidia-smi"
      ]
    },
    {
      "cell_type": "code",
      "source": [
        "!pip install ultralytics"
      ],
      "metadata": {
        "colab": {
          "base_uri": "https://localhost:8080/"
        },
        "id": "W7Oqd91Ds4pw",
        "outputId": "277381ca-b4bb-42be-9031-e49492d6548c"
      },
      "execution_count": null,
      "outputs": [
        {
          "output_type": "stream",
          "name": "stdout",
          "text": [
            "Looking in indexes: https://pypi.org/simple, https://us-python.pkg.dev/colab-wheels/public/simple/\n",
            "Collecting ultralytics\n",
            "  Downloading ultralytics-8.0.49-py3-none-any.whl (303 kB)\n",
            "\u001b[2K     \u001b[90m━━━━━━━━━━━━━━━━━━━━━━━━━━━━━━━━━━━━━━━\u001b[0m \u001b[32m303.7/303.7 KB\u001b[0m \u001b[31m7.7 MB/s\u001b[0m eta \u001b[36m0:00:00\u001b[0m\n",
            "\u001b[?25hRequirement already satisfied: torch>=1.7.0 in /usr/local/lib/python3.8/dist-packages (from ultralytics) (1.13.1+cu116)\n",
            "Requirement already satisfied: seaborn>=0.11.0 in /usr/local/lib/python3.8/dist-packages (from ultralytics) (0.11.2)\n",
            "Requirement already satisfied: matplotlib>=3.2.2 in /usr/local/lib/python3.8/dist-packages (from ultralytics) (3.5.3)\n",
            "Requirement already satisfied: torchvision>=0.8.1 in /usr/local/lib/python3.8/dist-packages (from ultralytics) (0.14.1+cu116)\n",
            "Requirement already satisfied: PyYAML>=5.3.1 in /usr/local/lib/python3.8/dist-packages (from ultralytics) (6.0)\n",
            "Collecting thop>=0.1.1\n",
            "  Downloading thop-0.1.1.post2209072238-py3-none-any.whl (15 kB)\n",
            "Requirement already satisfied: scipy>=1.4.1 in /usr/local/lib/python3.8/dist-packages (from ultralytics) (1.10.1)\n",
            "Requirement already satisfied: psutil in /usr/local/lib/python3.8/dist-packages (from ultralytics) (5.4.8)\n",
            "Requirement already satisfied: numpy>=1.18.5 in /usr/local/lib/python3.8/dist-packages (from ultralytics) (1.22.4)\n",
            "Requirement already satisfied: opencv-python>=4.6.0 in /usr/local/lib/python3.8/dist-packages (from ultralytics) (4.6.0.66)\n",
            "Requirement already satisfied: pandas>=1.1.4 in /usr/local/lib/python3.8/dist-packages (from ultralytics) (1.3.5)\n",
            "Requirement already satisfied: tqdm>=4.64.0 in /usr/local/lib/python3.8/dist-packages (from ultralytics) (4.64.1)\n",
            "Requirement already satisfied: tensorboard>=2.4.1 in /usr/local/lib/python3.8/dist-packages (from ultralytics) (2.11.2)\n",
            "Requirement already satisfied: requests>=2.23.0 in /usr/local/lib/python3.8/dist-packages (from ultralytics) (2.25.1)\n",
            "Requirement already satisfied: Pillow>=7.1.2 in /usr/local/lib/python3.8/dist-packages (from ultralytics) (8.4.0)\n",
            "Requirement already satisfied: certifi>=2022.12.7 in /usr/local/lib/python3.8/dist-packages (from ultralytics) (2022.12.7)\n",
            "Collecting sentry-sdk\n",
            "  Downloading sentry_sdk-1.16.0-py2.py3-none-any.whl (184 kB)\n",
            "\u001b[2K     \u001b[90m━━━━━━━━━━━━━━━━━━━━━━━━━━━━━━━━━━━━━━━\u001b[0m \u001b[32m184.3/184.3 KB\u001b[0m \u001b[31m8.1 MB/s\u001b[0m eta \u001b[36m0:00:00\u001b[0m\n",
            "\u001b[?25hRequirement already satisfied: cycler>=0.10 in /usr/local/lib/python3.8/dist-packages (from matplotlib>=3.2.2->ultralytics) (0.11.0)\n",
            "Requirement already satisfied: fonttools>=4.22.0 in /usr/local/lib/python3.8/dist-packages (from matplotlib>=3.2.2->ultralytics) (4.38.0)\n",
            "Requirement already satisfied: python-dateutil>=2.7 in /usr/local/lib/python3.8/dist-packages (from matplotlib>=3.2.2->ultralytics) (2.8.2)\n",
            "Requirement already satisfied: pyparsing>=2.2.1 in /usr/local/lib/python3.8/dist-packages (from matplotlib>=3.2.2->ultralytics) (3.0.9)\n",
            "Requirement already satisfied: kiwisolver>=1.0.1 in /usr/local/lib/python3.8/dist-packages (from matplotlib>=3.2.2->ultralytics) (1.4.4)\n",
            "Requirement already satisfied: packaging>=20.0 in /usr/local/lib/python3.8/dist-packages (from matplotlib>=3.2.2->ultralytics) (23.0)\n",
            "Requirement already satisfied: pytz>=2017.3 in /usr/local/lib/python3.8/dist-packages (from pandas>=1.1.4->ultralytics) (2022.7.1)\n",
            "Requirement already satisfied: idna<3,>=2.5 in /usr/local/lib/python3.8/dist-packages (from requests>=2.23.0->ultralytics) (2.10)\n",
            "Requirement already satisfied: chardet<5,>=3.0.2 in /usr/local/lib/python3.8/dist-packages (from requests>=2.23.0->ultralytics) (4.0.0)\n",
            "Requirement already satisfied: urllib3<1.27,>=1.21.1 in /usr/local/lib/python3.8/dist-packages (from requests>=2.23.0->ultralytics) (1.26.14)\n",
            "Requirement already satisfied: tensorboard-data-server<0.7.0,>=0.6.0 in /usr/local/lib/python3.8/dist-packages (from tensorboard>=2.4.1->ultralytics) (0.6.1)\n",
            "Requirement already satisfied: tensorboard-plugin-wit>=1.6.0 in /usr/local/lib/python3.8/dist-packages (from tensorboard>=2.4.1->ultralytics) (1.8.1)\n",
            "Requirement already satisfied: markdown>=2.6.8 in /usr/local/lib/python3.8/dist-packages (from tensorboard>=2.4.1->ultralytics) (3.4.1)\n",
            "Requirement already satisfied: google-auth-oauthlib<0.5,>=0.4.1 in /usr/local/lib/python3.8/dist-packages (from tensorboard>=2.4.1->ultralytics) (0.4.6)\n",
            "Requirement already satisfied: wheel>=0.26 in /usr/local/lib/python3.8/dist-packages (from tensorboard>=2.4.1->ultralytics) (0.38.4)\n",
            "Requirement already satisfied: google-auth<3,>=1.6.3 in /usr/local/lib/python3.8/dist-packages (from tensorboard>=2.4.1->ultralytics) (2.16.1)\n",
            "Requirement already satisfied: protobuf<4,>=3.9.2 in /usr/local/lib/python3.8/dist-packages (from tensorboard>=2.4.1->ultralytics) (3.19.6)\n",
            "Requirement already satisfied: setuptools>=41.0.0 in /usr/local/lib/python3.8/dist-packages (from tensorboard>=2.4.1->ultralytics) (57.4.0)\n",
            "Requirement already satisfied: werkzeug>=1.0.1 in /usr/local/lib/python3.8/dist-packages (from tensorboard>=2.4.1->ultralytics) (2.2.3)\n",
            "Requirement already satisfied: grpcio>=1.24.3 in /usr/local/lib/python3.8/dist-packages (from tensorboard>=2.4.1->ultralytics) (1.51.3)\n",
            "Requirement already satisfied: absl-py>=0.4 in /usr/local/lib/python3.8/dist-packages (from tensorboard>=2.4.1->ultralytics) (1.4.0)\n",
            "Requirement already satisfied: typing-extensions in /usr/local/lib/python3.8/dist-packages (from torch>=1.7.0->ultralytics) (4.5.0)\n",
            "Requirement already satisfied: pyasn1-modules>=0.2.1 in /usr/local/lib/python3.8/dist-packages (from google-auth<3,>=1.6.3->tensorboard>=2.4.1->ultralytics) (0.2.8)\n",
            "Requirement already satisfied: six>=1.9.0 in /usr/local/lib/python3.8/dist-packages (from google-auth<3,>=1.6.3->tensorboard>=2.4.1->ultralytics) (1.15.0)\n",
            "Requirement already satisfied: cachetools<6.0,>=2.0.0 in /usr/local/lib/python3.8/dist-packages (from google-auth<3,>=1.6.3->tensorboard>=2.4.1->ultralytics) (5.3.0)\n",
            "Requirement already satisfied: rsa<5,>=3.1.4 in /usr/local/lib/python3.8/dist-packages (from google-auth<3,>=1.6.3->tensorboard>=2.4.1->ultralytics) (4.9)\n",
            "Requirement already satisfied: requests-oauthlib>=0.7.0 in /usr/local/lib/python3.8/dist-packages (from google-auth-oauthlib<0.5,>=0.4.1->tensorboard>=2.4.1->ultralytics) (1.3.1)\n",
            "Requirement already satisfied: importlib-metadata>=4.4 in /usr/local/lib/python3.8/dist-packages (from markdown>=2.6.8->tensorboard>=2.4.1->ultralytics) (6.0.0)\n",
            "Requirement already satisfied: MarkupSafe>=2.1.1 in /usr/local/lib/python3.8/dist-packages (from werkzeug>=1.0.1->tensorboard>=2.4.1->ultralytics) (2.1.2)\n",
            "Requirement already satisfied: zipp>=0.5 in /usr/local/lib/python3.8/dist-packages (from importlib-metadata>=4.4->markdown>=2.6.8->tensorboard>=2.4.1->ultralytics) (3.15.0)\n",
            "Requirement already satisfied: pyasn1<0.5.0,>=0.4.6 in /usr/local/lib/python3.8/dist-packages (from pyasn1-modules>=0.2.1->google-auth<3,>=1.6.3->tensorboard>=2.4.1->ultralytics) (0.4.8)\n",
            "Requirement already satisfied: oauthlib>=3.0.0 in /usr/local/lib/python3.8/dist-packages (from requests-oauthlib>=0.7.0->google-auth-oauthlib<0.5,>=0.4.1->tensorboard>=2.4.1->ultralytics) (3.2.2)\n",
            "Installing collected packages: sentry-sdk, thop, ultralytics\n",
            "Successfully installed sentry-sdk-1.16.0 thop-0.1.1.post2209072238 ultralytics-8.0.49\n"
          ]
        }
      ]
    },
    {
      "cell_type": "markdown",
      "source": [
        "## Install YOLOv8"
      ],
      "metadata": {
        "id": "HdmBNEKbtJBZ"
      }
    },
    {
      "cell_type": "code",
      "source": [
        "from ultralytics import YOLO\n",
        "import os\n",
        "from IPython.display import display, Image\n",
        "from IPython import display\n",
        "display.clear_output()\n",
        "!yolo mode=checks"
      ],
      "metadata": {
        "colab": {
          "base_uri": "https://localhost:8080/"
        },
        "id": "17pSt5mps8Kg",
        "outputId": "06abe34e-b05e-4229-86df-83ef16fe966a"
      },
      "execution_count": null,
      "outputs": [
        {
          "output_type": "stream",
          "name": "stdout",
          "text": [
            "WARNING ⚠️ 'yolo mode=checks' is deprecated. Use 'yolo checks' instead.\n",
            "\u001b[2K\r\u001b[2K\rUltralytics YOLOv8.0.49 🚀 Python-3.8.10 torch-1.13.1+cu116 CUDA:0 (Tesla T4, 15102MiB)\n",
            "Setup complete ✅ (2 CPUs, 12.7 GB RAM, 25.6/166.8 GB disk)\n"
          ]
        }
      ]
    },
    {
      "cell_type": "markdown",
      "source": [
        "## Inference Example with Pretrained YOLOv8 Model"
      ],
      "metadata": {
        "id": "ZZWbibpttVzY"
      }
    },
    {
      "cell_type": "code",
      "source": [
        "!yolo task=segment mode=predict model=yolov8l-seg.pt conf=0.25 source='https://media.roboflow.com/notebooks/examples/dog.jpeg'"
      ],
      "metadata": {
        "colab": {
          "base_uri": "https://localhost:8080/"
        },
        "id": "V6ypjygvtLfb",
        "outputId": "b2dcd7fc-954d-4519-c98d-4b64154c7c65"
      },
      "execution_count": null,
      "outputs": [
        {
          "output_type": "stream",
          "name": "stdout",
          "text": [
            "Downloading https://github.com/ultralytics/assets/releases/download/v0.0.0/yolov8l-seg.pt to yolov8l-seg.pt...\n",
            "100% 88.1M/88.1M [00:03<00:00, 24.5MB/s]\n",
            "Ultralytics YOLOv8.0.49 🚀 Python-3.8.10 torch-1.13.1+cu116 CUDA:0 (Tesla T4, 15102MiB)\n",
            "YOLOv8l-seg summary (fused): 295 layers, 45973568 parameters, 0 gradients, 220.5 GFLOPs\n",
            "\n",
            "Downloading https://media.roboflow.com/notebooks/examples/dog.jpeg to dog.jpeg...\n",
            "100% 104k/104k [00:00<00:00, 2.58MB/s]\n",
            "image 1/1 /content/dog.jpeg: 640x384 1 person, 1 car, 1 dog, 1 backpack, 58.6ms\n",
            "Speed: 0.5ms preprocess, 58.6ms inference, 24.2ms postprocess per image at shape (1, 3, 640, 640)\n"
          ]
        }
      ]
    },
    {
      "cell_type": "markdown",
      "source": [
        "## Train YOLOv8 Model on Custom Dataset"
      ],
      "metadata": {
        "id": "wg3f1b7yt_wE"
      }
    },
    {
      "cell_type": "code",
      "source": [
        "!pip install roboflow\n",
        "\n",
        "from roboflow import Roboflow\n",
        "rf = Roboflow(api_key=\"YOUR-API-KEY\")\n",
        "project = rf.workspace(\"nicolai-hoirup-nielsen\").project(\"fridgesimple\")\n",
        "dataset = project.version(1).download(\"yolov8\")\n"
      ],
      "metadata": {
        "colab": {
          "base_uri": "https://localhost:8080/",
          "height": 1000
        },
        "id": "80-eNzoBuCex",
        "outputId": "6e0276ec-794f-48e9-ccd6-1469179869cb"
      },
      "execution_count": null,
      "outputs": [
        {
          "output_type": "stream",
          "name": "stdout",
          "text": [
            "Looking in indexes: https://pypi.org/simple, https://us-python.pkg.dev/colab-wheels/public/simple/\n",
            "Collecting roboflow\n",
            "  Downloading roboflow-0.2.32-py3-none-any.whl (50 kB)\n",
            "\u001b[2K     \u001b[90m━━━━━━━━━━━━━━━━━━━━━━━━━━━━━━━━━━━━━━━━\u001b[0m \u001b[32m50.2/50.2 KB\u001b[0m \u001b[31m4.3 MB/s\u001b[0m eta \u001b[36m0:00:00\u001b[0m\n",
            "\u001b[?25hRequirement already satisfied: python-dateutil in /usr/local/lib/python3.8/dist-packages (from roboflow) (2.8.2)\n",
            "Requirement already satisfied: matplotlib in /usr/local/lib/python3.8/dist-packages (from roboflow) (3.5.3)\n",
            "Requirement already satisfied: kiwisolver>=1.3.1 in /usr/local/lib/python3.8/dist-packages (from roboflow) (1.4.4)\n",
            "Requirement already satisfied: Pillow>=7.1.2 in /usr/local/lib/python3.8/dist-packages (from roboflow) (8.4.0)\n",
            "Requirement already satisfied: idna==2.10 in /usr/local/lib/python3.8/dist-packages (from roboflow) (2.10)\n",
            "Requirement already satisfied: opencv-python>=4.1.2 in /usr/local/lib/python3.8/dist-packages (from roboflow) (4.6.0.66)\n",
            "Requirement already satisfied: certifi==2022.12.7 in /usr/local/lib/python3.8/dist-packages (from roboflow) (2022.12.7)\n",
            "Collecting python-dotenv\n",
            "  Downloading python_dotenv-1.0.0-py3-none-any.whl (19 kB)\n",
            "Requirement already satisfied: numpy>=1.18.5 in /usr/local/lib/python3.8/dist-packages (from roboflow) (1.22.4)\n",
            "Collecting requests-toolbelt\n",
            "  Downloading requests_toolbelt-0.10.1-py2.py3-none-any.whl (54 kB)\n",
            "\u001b[2K     \u001b[90m━━━━━━━━━━━━━━━━━━━━━━━━━━━━━━━━━━━━━━━━\u001b[0m \u001b[32m54.5/54.5 KB\u001b[0m \u001b[31m7.5 MB/s\u001b[0m eta \u001b[36m0:00:00\u001b[0m\n",
            "\u001b[?25hCollecting wget\n",
            "  Downloading wget-3.2.zip (10 kB)\n",
            "  Preparing metadata (setup.py) ... \u001b[?25l\u001b[?25hdone\n",
            "Requirement already satisfied: urllib3>=1.26.6 in /usr/local/lib/python3.8/dist-packages (from roboflow) (1.26.14)\n",
            "Requirement already satisfied: PyYAML>=5.3.1 in /usr/local/lib/python3.8/dist-packages (from roboflow) (6.0)\n",
            "Collecting cycler==0.10.0\n",
            "  Downloading cycler-0.10.0-py2.py3-none-any.whl (6.5 kB)\n",
            "Collecting pyparsing==2.4.7\n",
            "  Downloading pyparsing-2.4.7-py2.py3-none-any.whl (67 kB)\n",
            "\u001b[2K     \u001b[90m━━━━━━━━━━━━━━━━━━━━━━━━━━━━━━━━━━━━━━━━\u001b[0m \u001b[32m67.8/67.8 KB\u001b[0m \u001b[31m9.1 MB/s\u001b[0m eta \u001b[36m0:00:00\u001b[0m\n",
            "\u001b[?25hRequirement already satisfied: tqdm>=4.41.0 in /usr/local/lib/python3.8/dist-packages (from roboflow) (4.64.1)\n",
            "Requirement already satisfied: chardet==4.0.0 in /usr/local/lib/python3.8/dist-packages (from roboflow) (4.0.0)\n",
            "Requirement already satisfied: six in /usr/local/lib/python3.8/dist-packages (from roboflow) (1.15.0)\n",
            "Requirement already satisfied: requests in /usr/local/lib/python3.8/dist-packages (from roboflow) (2.25.1)\n",
            "Requirement already satisfied: packaging>=20.0 in /usr/local/lib/python3.8/dist-packages (from matplotlib->roboflow) (23.0)\n",
            "Requirement already satisfied: fonttools>=4.22.0 in /usr/local/lib/python3.8/dist-packages (from matplotlib->roboflow) (4.38.0)\n",
            "Building wheels for collected packages: wget\n",
            "  Building wheel for wget (setup.py) ... \u001b[?25l\u001b[?25hdone\n",
            "  Created wheel for wget: filename=wget-3.2-py3-none-any.whl size=9674 sha256=12d0845b2fc75dc64e9fc2bcd9790143b9a42726deded114e081c521ea4f4085\n",
            "  Stored in directory: /root/.cache/pip/wheels/bd/a8/c3/3cf2c14a1837a4e04bd98631724e81f33f462d86a1d895fae0\n",
            "Successfully built wget\n",
            "Installing collected packages: wget, python-dotenv, pyparsing, cycler, requests-toolbelt, roboflow\n",
            "  Attempting uninstall: pyparsing\n",
            "    Found existing installation: pyparsing 3.0.9\n",
            "    Uninstalling pyparsing-3.0.9:\n",
            "      Successfully uninstalled pyparsing-3.0.9\n",
            "  Attempting uninstall: cycler\n",
            "    Found existing installation: cycler 0.11.0\n",
            "    Uninstalling cycler-0.11.0:\n",
            "      Successfully uninstalled cycler-0.11.0\n",
            "Successfully installed cycler-0.10.0 pyparsing-2.4.7 python-dotenv-1.0.0 requests-toolbelt-0.10.1 roboflow-0.2.32 wget-3.2\n"
          ]
        },
        {
          "output_type": "display_data",
          "data": {
            "application/vnd.colab-display-data+json": {
              "pip_warning": {
                "packages": [
                  "cycler",
                  "pyparsing"
                ]
              }
            }
          },
          "metadata": {}
        },
        {
          "output_type": "stream",
          "name": "stdout",
          "text": [
            "loading Roboflow workspace...\n",
            "loading Roboflow project...\n",
            "Dependency ultralytics<=8.0.20 is required but found version=8.0.49, to fix: `pip install ultralytics<=8.0.20`\n",
            "Downloading Dataset Version Zip in FridgeSimple-1 to yolov8: 100% [13771934 / 13771934] bytes\n"
          ]
        },
        {
          "output_type": "stream",
          "name": "stderr",
          "text": [
            "Extracting Dataset Version Zip to FridgeSimple-1 in yolov8:: 100%|██████████| 918/918 [00:00<00:00, 979.31it/s] \n"
          ]
        }
      ]
    },
    {
      "cell_type": "code",
      "source": [
        "!yolo task=detect mode=train model=yolov8m.pt data={dataset.location}/data.yaml epochs=20 imgsz=640"
      ],
      "metadata": {
        "colab": {
          "base_uri": "https://localhost:8080/"
        },
        "id": "8aRV61lJuRqx",
        "outputId": "4ddf5386-cf34-4810-d1e1-b200f116b7c7"
      },
      "execution_count": null,
      "outputs": [
        {
          "output_type": "stream",
          "name": "stdout",
          "text": [
            "Downloading https://github.com/ultralytics/assets/releases/download/v0.0.0/yolov8m.pt to yolov8m.pt...\n",
            "100% 49.7M/49.7M [00:01<00:00, 34.1MB/s]\n",
            "Ultralytics YOLOv8.0.49 🚀 Python-3.8.10 torch-1.13.1+cu116 CUDA:0 (Tesla T4, 15102MiB)\n",
            "\u001b[34m\u001b[1myolo/engine/trainer: \u001b[0mtask=detect, mode=train, model=yolov8m.pt, data=/content/FridgeSimple-1/data.yaml, epochs=20, patience=50, batch=16, imgsz=640, save=True, save_period=-1, cache=False, device=None, workers=8, project=None, name=None, exist_ok=False, pretrained=False, optimizer=SGD, verbose=True, seed=0, deterministic=True, single_cls=False, image_weights=False, rect=False, cos_lr=False, close_mosaic=10, resume=False, min_memory=False, overlap_mask=True, mask_ratio=4, dropout=0.0, val=True, split=val, save_json=False, save_hybrid=False, conf=None, iou=0.7, max_det=300, half=False, dnn=False, plots=True, source=None, show=False, save_txt=False, save_conf=False, save_crop=False, hide_labels=False, hide_conf=False, vid_stride=1, line_thickness=3, visualize=False, augment=False, agnostic_nms=False, classes=None, retina_masks=False, boxes=True, format=torchscript, keras=False, optimize=False, int8=False, dynamic=False, simplify=False, opset=None, workspace=4, nms=False, lr0=0.01, lrf=0.01, momentum=0.937, weight_decay=0.0005, warmup_epochs=3.0, warmup_momentum=0.8, warmup_bias_lr=0.1, box=7.5, cls=0.5, dfl=1.5, fl_gamma=0.0, label_smoothing=0.0, nbs=64, hsv_h=0.015, hsv_s=0.7, hsv_v=0.4, degrees=0.0, translate=0.1, scale=0.5, shear=0.0, perspective=0.0, flipud=0.0, fliplr=0.5, mosaic=1.0, mixup=0.0, copy_paste=0.0, cfg=None, v5loader=False, tracker=botsort.yaml, save_dir=runs/detect/train\n",
            "Downloading https://ultralytics.com/assets/Arial.ttf to /root/.config/Ultralytics/Arial.ttf...\n",
            "100% 755k/755k [00:00<00:00, 28.7MB/s]\n",
            "Overriding model.yaml nc=80 with nc=10\n",
            "\n",
            "                   from  n    params  module                                       arguments                     \n",
            "  0                  -1  1      1392  ultralytics.nn.modules.Conv                  [3, 48, 3, 2]                 \n",
            "  1                  -1  1     41664  ultralytics.nn.modules.Conv                  [48, 96, 3, 2]                \n",
            "  2                  -1  2    111360  ultralytics.nn.modules.C2f                   [96, 96, 2, True]             \n",
            "  3                  -1  1    166272  ultralytics.nn.modules.Conv                  [96, 192, 3, 2]               \n",
            "  4                  -1  4    813312  ultralytics.nn.modules.C2f                   [192, 192, 4, True]           \n",
            "  5                  -1  1    664320  ultralytics.nn.modules.Conv                  [192, 384, 3, 2]              \n",
            "  6                  -1  4   3248640  ultralytics.nn.modules.C2f                   [384, 384, 4, True]           \n",
            "  7                  -1  1   1991808  ultralytics.nn.modules.Conv                  [384, 576, 3, 2]              \n",
            "  8                  -1  2   3985920  ultralytics.nn.modules.C2f                   [576, 576, 2, True]           \n",
            "  9                  -1  1    831168  ultralytics.nn.modules.SPPF                  [576, 576, 5]                 \n",
            " 10                  -1  1         0  torch.nn.modules.upsampling.Upsample         [None, 2, 'nearest']          \n",
            " 11             [-1, 6]  1         0  ultralytics.nn.modules.Concat                [1]                           \n",
            " 12                  -1  2   1993728  ultralytics.nn.modules.C2f                   [960, 384, 2]                 \n",
            " 13                  -1  1         0  torch.nn.modules.upsampling.Upsample         [None, 2, 'nearest']          \n",
            " 14             [-1, 4]  1         0  ultralytics.nn.modules.Concat                [1]                           \n",
            " 15                  -1  2    517632  ultralytics.nn.modules.C2f                   [576, 192, 2]                 \n",
            " 16                  -1  1    332160  ultralytics.nn.modules.Conv                  [192, 192, 3, 2]              \n",
            " 17            [-1, 12]  1         0  ultralytics.nn.modules.Concat                [1]                           \n",
            " 18                  -1  2   1846272  ultralytics.nn.modules.C2f                   [576, 384, 2]                 \n",
            " 19                  -1  1   1327872  ultralytics.nn.modules.Conv                  [384, 384, 3, 2]              \n",
            " 20             [-1, 9]  1         0  ultralytics.nn.modules.Concat                [1]                           \n",
            " 21                  -1  2   4207104  ultralytics.nn.modules.C2f                   [960, 576, 2]                 \n",
            " 22        [15, 18, 21]  1   3781486  ultralytics.nn.modules.Detect                [10, [192, 384, 576]]         \n",
            "Model summary: 295 layers, 25862110 parameters, 25862094 gradients, 79.1 GFLOPs\n",
            "\n",
            "Transferred 469/475 items from pretrained weights\n",
            "2023-03-02 17:48:41.780980: I tensorflow/core/platform/cpu_feature_guard.cc:193] This TensorFlow binary is optimized with oneAPI Deep Neural Network Library (oneDNN) to use the following CPU instructions in performance-critical operations:  AVX2 FMA\n",
            "To enable them in other operations, rebuild TensorFlow with the appropriate compiler flags.\n",
            "2023-03-02 17:48:42.965197: W tensorflow/compiler/xla/stream_executor/platform/default/dso_loader.cc:64] Could not load dynamic library 'libnvinfer.so.7'; dlerror: libnvinfer.so.7: cannot open shared object file: No such file or directory; LD_LIBRARY_PATH: /usr/local/lib/python3.8/dist-packages/cv2/../../lib64:/usr/local/lib/python3.8/dist-packages/cv2/../../lib64:/usr/lib64-nvidia\n",
            "2023-03-02 17:48:42.965392: W tensorflow/compiler/xla/stream_executor/platform/default/dso_loader.cc:64] Could not load dynamic library 'libnvinfer_plugin.so.7'; dlerror: libnvinfer_plugin.so.7: cannot open shared object file: No such file or directory; LD_LIBRARY_PATH: /usr/local/lib/python3.8/dist-packages/cv2/../../lib64:/usr/local/lib/python3.8/dist-packages/cv2/../../lib64:/usr/lib64-nvidia\n",
            "2023-03-02 17:48:42.965417: W tensorflow/compiler/tf2tensorrt/utils/py_utils.cc:38] TF-TRT Warning: Cannot dlopen some TensorRT libraries. If you would like to use Nvidia GPU with TensorRT, please make sure the missing libraries mentioned above are installed properly.\n",
            "\u001b[34m\u001b[1moptimizer:\u001b[0m SGD(lr=0.01) with parameter groups 77 weight(decay=0.0), 84 weight(decay=0.0005), 83 bias\n",
            "\u001b[34m\u001b[1mtrain: \u001b[0mScanning /content/FridgeSimple-1/train/labels... 413 images, 0 backgrounds, 0 corrupt: 100% 413/413 [00:00<00:00, 1785.07it/s]\n",
            "\u001b[34m\u001b[1mtrain: \u001b[0mNew cache created: /content/FridgeSimple-1/train/labels.cache\n",
            "\u001b[34m\u001b[1malbumentations: \u001b[0mBlur(p=0.01, blur_limit=(3, 7)), MedianBlur(p=0.01, blur_limit=(3, 7)), ToGray(p=0.01), CLAHE(p=0.01, clip_limit=(1, 4.0), tile_grid_size=(8, 8))\n",
            "\u001b[34m\u001b[1mval: \u001b[0mScanning /content/FridgeSimple-1/valid/labels... 20 images, 0 backgrounds, 0 corrupt: 100% 20/20 [00:00<00:00, 1989.85it/s]\n",
            "\u001b[34m\u001b[1mval: \u001b[0mNew cache created: /content/FridgeSimple-1/valid/labels.cache\n",
            "Plotting labels to runs/detect/train/labels.jpg... \n",
            "Image sizes 640 train, 640 val\n",
            "Using 2 dataloader workers\n",
            "Logging results to \u001b[1mruns/detect/train\u001b[0m\n",
            "Starting training for 20 epochs...\n",
            "\n",
            "      Epoch    GPU_mem   box_loss   cls_loss   dfl_loss  Instances       Size\n",
            "       1/20      7.62G      1.388      3.417      1.391        105        640: 100% 26/26 [00:24<00:00,  1.08it/s]\n",
            "                 Class     Images  Instances      Box(P          R      mAP50  mAP50-95): 100% 1/1 [00:02<00:00,  2.07s/it]\n",
            "                   all         20        123      0.626      0.737      0.727      0.577\n",
            "\n",
            "      Epoch    GPU_mem   box_loss   cls_loss   dfl_loss  Instances       Size\n",
            "       2/20      7.96G     0.9808      1.192      1.058         95        640: 100% 26/26 [00:17<00:00,  1.48it/s]\n",
            "                 Class     Images  Instances      Box(P          R      mAP50  mAP50-95): 100% 1/1 [00:00<00:00,  1.50it/s]\n",
            "                   all         20        123      0.974      0.975       0.99      0.783\n",
            "\n",
            "      Epoch    GPU_mem   box_loss   cls_loss   dfl_loss  Instances       Size\n",
            "       3/20      7.96G     0.9286     0.7899      1.017        126        640: 100% 26/26 [00:17<00:00,  1.46it/s]\n",
            "                 Class     Images  Instances      Box(P          R      mAP50  mAP50-95): 100% 1/1 [00:00<00:00,  1.53it/s]\n",
            "                   all         20        123      0.955      0.997      0.995      0.744\n",
            "\n",
            "      Epoch    GPU_mem   box_loss   cls_loss   dfl_loss  Instances       Size\n",
            "       4/20      7.96G     0.9067     0.7194      1.016        123        640: 100% 26/26 [00:17<00:00,  1.48it/s]\n",
            "                 Class     Images  Instances      Box(P          R      mAP50  mAP50-95): 100% 1/1 [00:00<00:00,  1.33it/s]\n",
            "                   all         20        123      0.972       0.99      0.995      0.769\n",
            "\n",
            "      Epoch    GPU_mem   box_loss   cls_loss   dfl_loss  Instances       Size\n",
            "       5/20      8.29G     0.9009     0.6543      1.007        119        640: 100% 26/26 [00:18<00:00,  1.43it/s]\n",
            "                 Class     Images  Instances      Box(P          R      mAP50  mAP50-95): 100% 1/1 [00:00<00:00,  1.48it/s]\n",
            "                   all         20        123      0.982          1      0.995      0.804\n",
            "\n",
            "      Epoch    GPU_mem   box_loss   cls_loss   dfl_loss  Instances       Size\n",
            "       6/20      8.29G     0.9121     0.5515      1.011        169        640: 100% 26/26 [00:17<00:00,  1.46it/s]\n",
            "                 Class     Images  Instances      Box(P          R      mAP50  mAP50-95): 100% 1/1 [00:00<00:00,  1.17it/s]\n",
            "                   all         20        123      0.988          1      0.995        0.8\n",
            "\n",
            "      Epoch    GPU_mem   box_loss   cls_loss   dfl_loss  Instances       Size\n",
            "       7/20      8.29G     0.8466     0.5083      0.998        150        640: 100% 26/26 [00:17<00:00,  1.50it/s]\n",
            "                 Class     Images  Instances      Box(P          R      mAP50  mAP50-95): 100% 1/1 [00:00<00:00,  1.54it/s]\n",
            "                   all         20        123      0.989          1      0.995       0.78\n",
            "\n",
            "      Epoch    GPU_mem   box_loss   cls_loss   dfl_loss  Instances       Size\n",
            "       8/20      8.29G     0.8488     0.5064      1.001        133        640: 100% 26/26 [00:17<00:00,  1.46it/s]\n",
            "                 Class     Images  Instances      Box(P          R      mAP50  mAP50-95): 100% 1/1 [00:00<00:00,  1.17it/s]\n",
            "                   all         20        123      0.987      0.999      0.995      0.798\n",
            "\n",
            "      Epoch    GPU_mem   box_loss   cls_loss   dfl_loss  Instances       Size\n",
            "       9/20      8.29G     0.7994     0.4548     0.9919        113        640: 100% 26/26 [00:17<00:00,  1.50it/s]\n",
            "                 Class     Images  Instances      Box(P          R      mAP50  mAP50-95): 100% 1/1 [00:00<00:00,  1.52it/s]\n",
            "                   all         20        123      0.988      0.997      0.995      0.793\n",
            "\n",
            "      Epoch    GPU_mem   box_loss   cls_loss   dfl_loss  Instances       Size\n",
            "      10/20      8.29G     0.7776     0.4491     0.9839        123        640: 100% 26/26 [00:17<00:00,  1.48it/s]\n",
            "                 Class     Images  Instances      Box(P          R      mAP50  mAP50-95): 100% 1/1 [00:00<00:00,  1.16it/s]\n",
            "                   all         20        123      0.992          1      0.995      0.803\n",
            "Closing dataloader mosaic\n",
            "\u001b[34m\u001b[1malbumentations: \u001b[0mBlur(p=0.01, blur_limit=(3, 7)), MedianBlur(p=0.01, blur_limit=(3, 7)), ToGray(p=0.01), CLAHE(p=0.01, clip_limit=(1, 4.0), tile_grid_size=(8, 8))\n",
            "\n",
            "      Epoch    GPU_mem   box_loss   cls_loss   dfl_loss  Instances       Size\n",
            "      11/20      8.29G     0.7093     0.3678     0.9642         74        640: 100% 26/26 [00:16<00:00,  1.58it/s]\n",
            "                 Class     Images  Instances      Box(P          R      mAP50  mAP50-95): 100% 1/1 [00:00<00:00,  1.49it/s]\n",
            "                   all         20        123      0.991      0.998      0.995      0.756\n",
            "\n",
            "      Epoch    GPU_mem   box_loss   cls_loss   dfl_loss  Instances       Size\n",
            "      12/20      8.29G     0.6827      0.354     0.9499         79        640: 100% 26/26 [00:14<00:00,  1.80it/s]\n",
            "                 Class     Images  Instances      Box(P          R      mAP50  mAP50-95): 100% 1/1 [00:00<00:00,  1.51it/s]\n",
            "                   all         20        123       0.99          1      0.995      0.816\n",
            "\n",
            "      Epoch    GPU_mem   box_loss   cls_loss   dfl_loss  Instances       Size\n",
            "      13/20      8.29G     0.6741     0.3516     0.9404         82        640: 100% 26/26 [00:14<00:00,  1.83it/s]\n",
            "                 Class     Images  Instances      Box(P          R      mAP50  mAP50-95): 100% 1/1 [00:00<00:00,  1.30it/s]\n",
            "                   all         20        123      0.992          1      0.995      0.795\n",
            "\n",
            "      Epoch    GPU_mem   box_loss   cls_loss   dfl_loss  Instances       Size\n",
            "      14/20      8.29G     0.6477      0.324     0.9294         78        640: 100% 26/26 [00:14<00:00,  1.77it/s]\n",
            "                 Class     Images  Instances      Box(P          R      mAP50  mAP50-95): 100% 1/1 [00:00<00:00,  1.50it/s]\n",
            "                   all         20        123      0.991      0.997      0.995      0.847\n",
            "\n",
            "      Epoch    GPU_mem   box_loss   cls_loss   dfl_loss  Instances       Size\n",
            "      15/20      8.29G     0.6302     0.3154     0.9163         83        640: 100% 26/26 [00:14<00:00,  1.83it/s]\n",
            "                 Class     Images  Instances      Box(P          R      mAP50  mAP50-95): 100% 1/1 [00:00<00:00,  1.47it/s]\n",
            "                   all         20        123      0.991          1      0.995      0.841\n",
            "\n",
            "      Epoch    GPU_mem   box_loss   cls_loss   dfl_loss  Instances       Size\n",
            "      16/20      8.29G     0.6079     0.3073     0.9066         78        640: 100% 26/26 [00:14<00:00,  1.79it/s]\n",
            "                 Class     Images  Instances      Box(P          R      mAP50  mAP50-95): 100% 1/1 [00:00<00:00,  1.50it/s]\n",
            "                   all         20        123      0.986      0.999      0.995      0.838\n",
            "\n",
            "      Epoch    GPU_mem   box_loss   cls_loss   dfl_loss  Instances       Size\n",
            "      17/20      8.29G      0.596     0.2939     0.9051         76        640: 100% 26/26 [00:14<00:00,  1.79it/s]\n",
            "                 Class     Images  Instances      Box(P          R      mAP50  mAP50-95): 100% 1/1 [00:00<00:00,  1.24it/s]\n",
            "                   all         20        123      0.991          1      0.995      0.837\n",
            "\n",
            "      Epoch    GPU_mem   box_loss   cls_loss   dfl_loss  Instances       Size\n",
            "      18/20      8.29G     0.5838     0.2793     0.8906         84        640: 100% 26/26 [00:14<00:00,  1.80it/s]\n",
            "                 Class     Images  Instances      Box(P          R      mAP50  mAP50-95): 100% 1/1 [00:00<00:00,  1.50it/s]\n",
            "                   all         20        123      0.993      0.994      0.995      0.843\n",
            "\n",
            "      Epoch    GPU_mem   box_loss   cls_loss   dfl_loss  Instances       Size\n",
            "      19/20      8.29G     0.5733     0.2699     0.8899         81        640: 100% 26/26 [00:14<00:00,  1.81it/s]\n",
            "                 Class     Images  Instances      Box(P          R      mAP50  mAP50-95): 100% 1/1 [00:00<00:00,  1.49it/s]\n",
            "                   all         20        123      0.994          1      0.995      0.846\n",
            "\n",
            "      Epoch    GPU_mem   box_loss   cls_loss   dfl_loss  Instances       Size\n",
            "      20/20      8.29G     0.5589     0.2617     0.8861         81        640: 100% 26/26 [00:14<00:00,  1.81it/s]\n",
            "                 Class     Images  Instances      Box(P          R      mAP50  mAP50-95): 100% 1/1 [00:00<00:00,  1.15it/s]\n",
            "                   all         20        123      0.993          1      0.995      0.843\n",
            "\n",
            "20 epochs completed in 0.104 hours.\n",
            "Optimizer stripped from runs/detect/train/weights/last.pt, 52.0MB\n",
            "Optimizer stripped from runs/detect/train/weights/best.pt, 52.0MB\n",
            "\n",
            "Validating runs/detect/train/weights/best.pt...\n",
            "Ultralytics YOLOv8.0.49 🚀 Python-3.8.10 torch-1.13.1+cu116 CUDA:0 (Tesla T4, 15102MiB)\n",
            "Model summary (fused): 218 layers, 25845550 parameters, 0 gradients, 78.7 GFLOPs\n",
            "                 Class     Images  Instances      Box(P          R      mAP50  mAP50-95): 100% 1/1 [00:00<00:00,  1.15it/s]\n",
            "                   all         20        123      0.991      0.997      0.995      0.847\n",
            "                 bento         20          9      0.983          1      0.995      0.837\n",
            "                coffee         20         11      0.989          1      0.995      0.897\n",
            "          energy_drink         20         14      0.988          1      0.995      0.879\n",
            "               pudding         20         17      0.997          1      0.995      0.839\n",
            "             rice_ball         20         12      0.991          1      0.995      0.765\n",
            "              sandwich         20         14       0.99          1      0.995      0.832\n",
            "              smoothie         20         12          1      0.966      0.995      0.856\n",
            "                 tea_a         20         11      0.986          1      0.995      0.864\n",
            "                 tea_i         20         11      0.992          1      0.995      0.809\n",
            "                yogurt         20         12      0.994          1      0.995       0.89\n",
            "Speed: 0.2ms preprocess, 13.3ms inference, 0.0ms loss, 0.9ms postprocess per image\n",
            "Results saved to \u001b[1mruns/detect/train\u001b[0m\n"
          ]
        }
      ]
    },
    {
      "cell_type": "code",
      "source": [
        "Image(filename=f'/content/runs/detect/train/confusion_matrix.png', width=600)"
      ],
      "metadata": {
        "id": "low6E7BpuSXZ"
      },
      "execution_count": null,
      "outputs": []
    },
    {
      "cell_type": "code",
      "source": [],
      "metadata": {
        "id": "8yrgkTZFJEdH"
      },
      "execution_count": null,
      "outputs": []
    },
    {
      "cell_type": "code",
      "source": [
        "Image(filename=f'/content/runs/detect/train/results.png', width=600)"
      ],
      "metadata": {
        "id": "RHBi1w8quS1S"
      },
      "execution_count": null,
      "outputs": []
    },
    {
      "cell_type": "code",
      "source": [
        "!yolo task=detect mode=val model=/content/runs/detect/train/weights/best.pt data={dataset.location}/data.yaml"
      ],
      "metadata": {
        "id": "yQCtyIU8uSjI"
      },
      "execution_count": null,
      "outputs": []
    },
    {
      "cell_type": "code",
      "source": [
        "!yolo task=detect mode=predict model=/content/runs/detect/train/weights/best.pt conf=0.25 source={dataset.location}/test/images save_txt=true save_conf=true"
      ],
      "metadata": {
        "colab": {
          "base_uri": "https://localhost:8080/"
        },
        "id": "hzJflPrquSOm",
        "outputId": "53bc6bd5-a324-41c9-c31d-ad1d0437b231"
      },
      "execution_count": null,
      "outputs": [
        {
          "output_type": "stream",
          "name": "stdout",
          "text": [
            "Ultralytics YOLOv8.0.49 🚀 Python-3.8.10 torch-1.13.1+cu116 CUDA:0 (Tesla T4, 15102MiB)\n",
            "Model summary (fused): 218 layers, 25845550 parameters, 0 gradients, 78.7 GFLOPs\n",
            "\n",
            "image 1/20 /content/FridgeSimple-1/test/images/101_png_jpg.rf.2fb16c76268e109093fab060c45f7175.jpg: 640x640 1 coffee, 1 energy_drink, 1 pudding, 1 rice_ball, 1 tea_a, 1 tea_i, 1 yogurt, 37.3ms\n",
            "image 2/20 /content/FridgeSimple-1/test/images/102_png_jpg.rf.397c6b110a551a27e9d0c8182bccc8bd.jpg: 640x640 1 coffee, 1 energy_drink, 1 pudding, 1 rice_ball, 1 tea_a, 1 tea_i, 1 yogurt, 35.7ms\n",
            "image 3/20 /content/FridgeSimple-1/test/images/103_png_jpg.rf.ab89a8a9889902cdab590cecd4ef6447.jpg: 640x640 1 energy_drink, 1 pudding, 1 rice_ball, 1 smoothie, 1 tea_a, 1 tea_i, 1 yogurt, 33.2ms\n",
            "image 4/20 /content/FridgeSimple-1/test/images/104_png_jpg.rf.94f8a97e0180ed0f7a8a5bd7aa73a7ca.jpg: 640x640 2 energy_drinks, 1 pudding, 1 rice_ball, 1 tea_a, 1 tea_i, 1 yogurt, 33.0ms\n",
            "image 5/20 /content/FridgeSimple-1/test/images/105_png_jpg.rf.f8f142ac64cf336e833c08f5fa4c0def.jpg: 640x640 1 bento, 1 coffee, 1 sandwich, 1 smoothie, 32.5ms\n",
            "image 6/20 /content/FridgeSimple-1/test/images/106_png_jpg.rf.018e9b088f447af8d82b38c1f338b1a6.jpg: 640x640 1 bento, 1 coffee, 1 sandwich, 1 smoothie, 27.7ms\n",
            "image 7/20 /content/FridgeSimple-1/test/images/107_png_jpg.rf.6b995793241d4afe8c670b5e0abd7ffa.jpg: 640x640 1 bento, 1 pudding, 1 rice_ball, 1 sandwich, 1 yogurt, 22.0ms\n",
            "image 8/20 /content/FridgeSimple-1/test/images/108_png_jpg.rf.bbc6a7921d00af4c5f3a8fed99cb1811.jpg: 640x640 1 bento, 1 pudding, 1 rice_ball, 1 sandwich, 1 yogurt, 26.2ms\n",
            "image 9/20 /content/FridgeSimple-1/test/images/109_png_jpg.rf.bcbcc62019c8f0b611fcf1882717aa58.jpg: 640x640 1 bento, 1 pudding, 1 rice_ball, 1 sandwich, 1 yogurt, 39.2ms\n",
            "image 10/20 /content/FridgeSimple-1/test/images/110_png_jpg.rf.b50470782c5e3706ac0cb1a3fc2adc6e.jpg: 640x640 1 bento, 1 pudding, 1 rice_ball, 1 sandwich, 1 yogurt, 21.8ms\n",
            "image 11/20 /content/FridgeSimple-1/test/images/111_png_jpg.rf.a95074b0cbcf98604e7aa6597ec1498f.jpg: 640x640 1 bento, 1 pudding, 1 rice_ball, 1 sandwich, 1 yogurt, 21.8ms\n",
            "image 12/20 /content/FridgeSimple-1/test/images/112_png_jpg.rf.f39a523ccba7103423a055ea0aaf302a.jpg: 640x640 1 bento, 1 pudding, 1 rice_ball, 1 sandwich, 1 yogurt, 21.4ms\n",
            "image 13/20 /content/FridgeSimple-1/test/images/113_png_jpg.rf.c45c93c537d8c8b9e19b7a3e87fe1b53.jpg: 640x640 1 bento, 1 pudding, 1 rice_ball, 1 sandwich, 1 yogurt, 25.5ms\n",
            "image 14/20 /content/FridgeSimple-1/test/images/114_png_jpg.rf.c939ec6d157475b904b09ca1f86244cb.jpg: 640x640 1 pudding, 1 rice_ball, 1 sandwich, 1 smoothie, 1 yogurt, 24.7ms\n",
            "image 15/20 /content/FridgeSimple-1/test/images/115_png_jpg.rf.2c0f09bb390300b9134eff367184830f.jpg: 640x640 1 pudding, 1 rice_ball, 1 smoothie, 1 yogurt, 20.3ms\n",
            "image 16/20 /content/FridgeSimple-1/test/images/116_png_jpg.rf.5ca3af033de46c484263bb3ff1995d35.jpg: 640x640 1 bento, 2 sandwichs, 1 smoothie, 1 tea_a, 1 yogurt, 30.4ms\n",
            "image 17/20 /content/FridgeSimple-1/test/images/117_png_jpg.rf.d4b43b63ff210437a00d7b7c25b468c4.jpg: 640x640 1 bento, 1 smoothie, 1 tea_a, 1 yogurt, 20.0ms\n",
            "image 18/20 /content/FridgeSimple-1/test/images/118_png_jpg.rf.b940bb156baf70962239ddc1f7388379.jpg: 640x640 1 bento, 1 coffee, 1 energy_drink, 1 rice_ball, 1 tea_a, 1 tea_i, 20.2ms\n",
            "image 19/20 /content/FridgeSimple-1/test/images/119_png_jpg.rf.2d3961b6bf8a91279ce61583f973f111.jpg: 640x640 1 bento, 1 coffee, 1 energy_drink, 1 rice_ball, 1 tea_a, 1 tea_i, 20.1ms\n",
            "image 20/20 /content/FridgeSimple-1/test/images/120_png_jpg.rf.f6dea7075ab202221381d4dfea568e35.jpg: 640x640 1 coffee, 1 energy_drink, 1 pudding, 1 smoothie, 1 tea_a, 1 tea_i, 1 yogurt, 27.7ms\n",
            "Speed: 0.8ms preprocess, 27.0ms inference, 2.7ms postprocess per image at shape (1, 3, 640, 640)\n",
            "Results saved to \u001b[1mruns/detect/predict\u001b[0m\n",
            "20 labels saved to runs/detect/predict/labels\n"
          ]
        }
      ]
    },
    {
      "cell_type": "code",
      "source": [
        "import glob\n",
        "from IPython.display import Image, display\n",
        "\n",
        "for image_path in glob.glob(f'/content/runs/detect/predict2/*.jpg')[:5]:\n",
        "      display(Image(filename=image_path, height=600))\n",
        "      print(\"\\n\")"
      ],
      "metadata": {
        "id": "xKfQC9UaYlmo"
      },
      "execution_count": null,
      "outputs": []
    },
    {
      "cell_type": "code",
      "source": [
        "!git clone https://github.com/Taeyoung96/Yolo-to-COCO-format-converter.git"
      ],
      "metadata": {
        "id": "wbffCJD9wDP2",
        "colab": {
          "base_uri": "https://localhost:8080/"
        },
        "outputId": "72162288-cafa-4e0c-fa0a-18346f3f2141"
      },
      "execution_count": null,
      "outputs": [
        {
          "output_type": "stream",
          "name": "stdout",
          "text": [
            "Cloning into 'Yolo-to-COCO-format-converter'...\n",
            "remote: Enumerating objects: 255, done.\u001b[K\n",
            "remote: Counting objects: 100% (48/48), done.\u001b[K\n",
            "remote: Compressing objects: 100% (24/24), done.\u001b[K\n",
            "remote: Total 255 (delta 34), reused 29 (delta 24), pack-reused 207\u001b[K\n",
            "Receiving objects: 100% (255/255), 30.92 MiB | 26.81 MiB/s, done.\n",
            "Resolving deltas: 100% (52/52), done.\n"
          ]
        }
      ]
    },
    {
      "cell_type": "code",
      "source": [
        "cd Yolo-to-COCO-format-converter"
      ],
      "metadata": {
        "colab": {
          "base_uri": "https://localhost:8080/"
        },
        "id": "0D5ZkDddlFjN",
        "outputId": "adfa840f-193d-4b9f-997c-56f90c56c860"
      },
      "execution_count": null,
      "outputs": [
        {
          "output_type": "stream",
          "name": "stdout",
          "text": [
            "/content/Yolo-to-COCO-format-converter\n"
          ]
        }
      ]
    },
    {
      "cell_type": "code",
      "source": [
        "!python main.py --yolo-subdir --path /content/FridgeSimple-1/train --output prediction.json"
      ],
      "metadata": {
        "colab": {
          "base_uri": "https://localhost:8080/"
        },
        "id": "SOdxd8kslN3A",
        "outputId": "a4f4adf0-884c-4ff9-9935-d2be0c645fb4"
      },
      "execution_count": null,
      "outputs": [
        {
          "output_type": "stream",
          "name": "stdout",
          "text": [
            "Start!\n",
            "\rProcessing 0 ...\rProcessing 0 ...\rProcessing 0 ...\rProcessing 0 ...\rProcessing 0 ...\rProcessing 0 ...\rProcessing 0 ...\rProcessing 0 ...\rProcessing 0 ...\rProcessing 0 ...\rProcessing 0 ...\rProcessing 0 ...\rProcessing 0 ...\rProcessing 0 ...\rProcessing 0 ...\rProcessing 0 ...\rProcessing 0 ...\rProcessing 0 ...\rProcessing 0 ...\rProcessing 0 ...\rProcessing 0 ...\rProcessing 0 ...\rProcessing 0 ...\rProcessing 0 ...\rProcessing 0 ...\rProcessing 0 ...\rProcessing 0 ...\rProcessing 0 ...\rProcessing 0 ...\rProcessing 0 ...\rProcessing 0 ...\rProcessing 0 ...\rProcessing 0 ...\rProcessing 0 ...\rProcessing 0 ...\rProcessing 0 ...\rProcessing 0 ...\rProcessing 0 ...\rProcessing 0 ...\rProcessing 0 ...\rProcessing 0 ...\rProcessing 0 ...\rProcessing 0 ...\rProcessing 0 ...\rProcessing 0 ...\rProcessing 0 ...\rProcessing 0 ...\rProcessing 0 ...\rProcessing 0 ...\rProcessing 0 ...\rProcessing 0 ...\rProcessing 0 ...\rProcessing 0 ...\rProcessing 0 ...\rProcessing 0 ...\rProcessing 0 ...\rProcessing 0 ...\rProcessing 0 ...\rProcessing 0 ...\rProcessing 0 ...\rProcessing 0 ...\rProcessing 0 ...\rProcessing 0 ...\rProcessing 0 ...\rProcessing 0 ...\rProcessing 0 ...\rProcessing 0 ...\rProcessing 0 ...\rProcessing 0 ...\rProcessing 0 ...\rProcessing 0 ...\rProcessing 0 ...\rProcessing 0 ...\rProcessing 0 ...\rProcessing 0 ...\rProcessing 0 ...\rProcessing 0 ...\rProcessing 0 ...\rProcessing 0 ...\rProcessing 0 ...\rProcessing 0 ...\rProcessing 0 ...\rProcessing 0 ...\rProcessing 0 ...\rProcessing 0 ...\rProcessing 0 ...\rProcessing 0 ...\rProcessing 0 ...\rProcessing 0 ...\rProcessing 0 ...\rProcessing 0 ...\rProcessing 0 ...\rProcessing 0 ...\rProcessing 0 ...\rProcessing 0 ...\rProcessing 0 ...\rProcessing 0 ...\rProcessing 0 ...\rProcessing 0 ...\rProcessing 0 ...\rProcessing 0 ...\rProcessing 0 ...\rProcessing 0 ...\rProcessing 0 ...\rProcessing 0 ...\rProcessing 0 ...\rProcessing 0 ...\rProcessing 0 ...\rProcessing 0 ...\rProcessing 0 ...\rProcessing 0 ...\rProcessing 0 ...\rProcessing 0 ...\rProcessing 0 ...\rProcessing 0 ...\rProcessing 0 ...\rProcessing 0 ...\rProcessing 0 ...\rProcessing 0 ...\rProcessing 0 ...\rProcessing 0 ...\rProcessing 0 ...\rProcessing 0 ...\rProcessing 0 ...\rProcessing 0 ...\rProcessing 0 ...\rProcessing 0 ...\rProcessing 0 ...\rProcessing 0 ...\rProcessing 0 ...\rProcessing 0 ...\rProcessing 0 ...\rProcessing 0 ...\rProcessing 0 ...\rProcessing 0 ...\rProcessing 0 ...\rProcessing 0 ...\rProcessing 0 ...\rProcessing 0 ...\rProcessing 0 ...\rProcessing 0 ...\rProcessing 0 ...\rProcessing 0 ...\rProcessing 0 ...\rProcessing 0 ...\rProcessing 0 ...\rProcessing 0 ...\rProcessing 0 ...\rProcessing 0 ...\rProcessing 0 ...\rProcessing 0 ...\rProcessing 0 ...\rProcessing 0 ...\rProcessing 0 ...\rProcessing 0 ...\rProcessing 0 ...\rProcessing 0 ...\rProcessing 0 ...\rProcessing 0 ...\rProcessing 0 ...\rProcessing 0 ...\rProcessing 0 ...\rProcessing 0 ...\rProcessing 0 ...\rProcessing 0 ...\rProcessing 0 ...\rProcessing 0 ...\rProcessing 0 ...\rProcessing 0 ...\rProcessing 0 ...\rProcessing 0 ...\rProcessing 0 ...\rProcessing 0 ...\rProcessing 0 ...\rProcessing 0 ...\rProcessing 0 ...\rProcessing 0 ...\rProcessing 0 ...\rProcessing 0 ...\rProcessing 0 ...\rProcessing 0 ...\rProcessing 0 ...\rProcessing 0 ...\rProcessing 0 ...\rProcessing 0 ...\rProcessing 0 ...\rProcessing 0 ...\rProcessing 0 ...\rProcessing 0 ...\rProcessing 0 ...\rProcessing 0 ...\rProcessing 0 ...\rProcessing 0 ...\rProcessing 0 ...\rProcessing 0 ...\rProcessing 0 ...\rProcessing 0 ...\rProcessing 0 ...\rProcessing 0 ...\rProcessing 0 ...\rProcessing 0 ...\rProcessing 0 ...\rProcessing 0 ...\rProcessing 0 ...\rProcessing 0 ...\rProcessing 0 ...\rProcessing 0 ...\rProcessing 0 ...\rProcessing 0 ...\rProcessing 0 ...\rProcessing 0 ...\rProcessing 0 ...\rProcessing 0 ...\rProcessing 0 ...\rProcessing 0 ...\rProcessing 0 ...\rProcessing 0 ...\rProcessing 0 ...\rProcessing 0 ...\rProcessing 0 ...\rProcessing 0 ...\rProcessing 0 ...\rProcessing 0 ...\rProcessing 0 ...\rProcessing 0 ...\rProcessing 0 ...\rProcessing 0 ...\rProcessing 0 ...\rProcessing 0 ...\rProcessing 0 ...\rProcessing 0 ...\rProcessing 0 ...\rProcessing 0 ...\rProcessing 0 ...\rProcessing 0 ...\rProcessing 0 ...\rProcessing 0 ...\rProcessing 0 ...\rProcessing 0 ...\rProcessing 0 ...\rProcessing 0 ...\rProcessing 0 ...\rProcessing 0 ...\rProcessing 0 ...\rProcessing 0 ...\rProcessing 0 ...\rProcessing 0 ...\rProcessing 0 ...\rProcessing 0 ...\rProcessing 0 ...\rProcessing 0 ...\rProcessing 0 ...\rProcessing 0 ...\rProcessing 0 ...\rProcessing 0 ...\rProcessing 0 ...\rProcessing 0 ...\rProcessing 0 ...\rProcessing 0 ...\rProcessing 0 ...\rProcessing 0 ...\rProcessing 0 ...\rProcessing 0 ...\rProcessing 0 ...\rProcessing 0 ...\rProcessing 0 ...\rProcessing 0 ...\rProcessing 0 ...\rProcessing 0 ...\rProcessing 0 ...\rProcessing 0 ...\rProcessing 0 ...\rProcessing 0 ...\rProcessing 0 ...\rProcessing 0 ...\rProcessing 0 ...\rProcessing 0 ...\rProcessing 0 ...\rProcessing 0 ...\rProcessing 0 ...\rProcessing 0 ...\rProcessing 0 ...\rProcessing 0 ...\rProcessing 0 ...\rProcessing 0 ...\rProcessing 0 ...\rProcessing 0 ...\rProcessing 0 ...\rProcessing 0 ...\rProcessing 0 ...\rProcessing 0 ...\rProcessing 0 ...\rProcessing 0 ...\rProcessing 0 ...\rProcessing 0 ...\rProcessing 0 ...\rProcessing 0 ...\rProcessing 0 ...\rProcessing 0 ...\rProcessing 0 ...\rProcessing 0 ...\rProcessing 0 ...\rProcessing 0 ...\rProcessing 0 ...\rProcessing 0 ...\rProcessing 0 ...\rProcessing 0 ...\rProcessing 0 ...\rProcessing 0 ...\rProcessing 0 ...\rProcessing 0 ...\rProcessing 0 ...\rProcessing 0 ...\rProcessing 0 ...\rProcessing 0 ...\rProcessing 0 ...\rProcessing 0 ...\rProcessing 0 ...\rProcessing 0 ...\rProcessing 0 ...\rProcessing 0 ...\rProcessing 0 ...\rProcessing 0 ...\rProcessing 0 ...\rProcessing 0 ...\rProcessing 0 ...\rProcessing 0 ...\rProcessing 0 ...\rProcessing 0 ...\rProcessing 0 ...\rProcessing 0 ...\rProcessing 0 ...\rProcessing 0 ...\rProcessing 0 ...\rProcessing 0 ...\rProcessing 0 ...\rProcessing 0 ...\rProcessing 0 ...\rProcessing 0 ...\rProcessing 0 ...\rProcessing 0 ...\rProcessing 0 ...\rProcessing 0 ...\rProcessing 0 ...\rProcessing 0 ...\rProcessing 0 ...\rProcessing 0 ...\rProcessing 0 ...\rProcessing 0 ...\rProcessing 0 ...\rProcessing 0 ...\rProcessing 0 ...\rProcessing 0 ...\rProcessing 0 ...\rProcessing 0 ...\rProcessing 0 ...\rProcessing 0 ...\rProcessing 0 ...\rProcessing 0 ...\rProcessing 0 ...\rProcessing 0 ...\rProcessing 0 ...\rProcessing 0 ...\rProcessing 0 ...\rProcessing 0 ...\rProcessing 0 ...\rProcessing 0 ...\rProcessing 0 ...\rProcessing 0 ...\rProcessing 0 ...\rProcessing 0 ...\rProcessing 0 ...\rProcessing 0 ...\rProcessing 0 ...\rProcessing 0 ...\rProcessing 0 ...\rProcessing 0 ...\rProcessing 0 ...\rProcessing 0 ...\rProcessing 0 ...\rProcessing 0 ...\rProcessing 0 ...\rProcessing 0 ...\rProcessing 0 ...\rProcessing 0 ...\rProcessing 0 ...\rProcessing 0 ...\rProcessing 0 ...\rProcessing 0 ...\rProcessing 0 ...\rProcessing 0 ...\rProcessing 0 ...\rProcessing 0 ...\rProcessing 0 ...\rProcessing 0 ...\rProcessing 0 ...\rProcessing 0 ...\rProcessing 0 ...\rProcessing 0 ...\rProcessing 0 ...\rProcessing 0 ...\rProcessing 0 ...\rProcessing 0 ...\rProcessing 0 ...\rProcessing 0 ...\rProcessing 0 ...\rProcessing 0 ...\rProcessing 0 ...\rProcessing 0 ...\rProcessing 0 ...\rProcessing 0 ...\rProcessing 0 ...\rProcessing 0 ...Finished!\n"
          ]
        }
      ]
    },
    {
      "cell_type": "code",
      "source": [],
      "metadata": {
        "id": "ZcziP8Kmlbto"
      },
      "execution_count": null,
      "outputs": []
    }
  ]
}